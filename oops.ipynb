{
 "cells": [
  {
   "cell_type": "code",
   "execution_count": 1,
   "id": "d5744f38-a68b-422c-8bcc-c53a5a133439",
   "metadata": {},
   "outputs": [
    {
     "ename": "SyntaxError",
     "evalue": "invalid syntax (128349586.py, line 1)",
     "output_type": "error",
     "traceback": [
      "\u001b[0;36m  Cell \u001b[0;32mIn[1], line 1\u001b[0;36m\u001b[0m\n\u001b[0;31m    explain class and object\u001b[0m\n\u001b[0m            ^\u001b[0m\n\u001b[0;31mSyntaxError\u001b[0m\u001b[0;31m:\u001b[0m invalid syntax\n"
     ]
    }
   ],
   "source": [
    "explain class and object\n",
    "\n",
    "answer: class are user-defined datatypes that acts as blueprint for individual objects attributes and methods\n",
    "object are instances of class created with specifical defined datatypes\n",
    "\n",
    "example:\n",
    "    car is a class \n",
    "    its model,engine,color,brand,etc are objects"
   ]
  },
  {
   "cell_type": "code",
   "execution_count": null,
   "id": "5bd828c0-689b-4e89-b41b-b073c7f32e90",
   "metadata": {},
   "outputs": [],
   "source": [
    "name the four pillars of oops\n",
    "\n",
    "answer:\n",
    "   1.inheritance\n",
    "   2.polymorphism\n",
    "  3.encapsulation\n",
    "   4.abstraction"
   ]
  },
  {
   "cell_type": "code",
   "execution_count": null,
   "id": "7a17796d-9188-4a5b-9de2-50820ec4183a",
   "metadata": {},
   "outputs": [],
   "source": [
    "explain why __init__ () function is used.with an example\n",
    "\n",
    "answer: \n",
    "    The task of constructors is to initialize(assign values) to the data members of the class\n",
    "    when an object of the class is created. \n",
    "    \n",
    "    example: \n",
    "    class person:\n",
    "        def __init__(self, name):\n",
    "        self.name = name"
   ]
  },
  {
   "cell_type": "code",
   "execution_count": null,
   "id": "a177eecb-a8b2-49a4-92af-1e044c4f8051",
   "metadata": {},
   "outputs": [],
   "source": [
    "why self is used in oops\n",
    "\n",
    "answer:\n",
    "    The self variable is used to represent the instance of the class\n",
    "     It works as a reference to the object."
   ]
  },
  {
   "cell_type": "code",
   "execution_count": null,
   "id": "b49240a5-8d7c-4872-a69a-c23ec3fdf1ea",
   "metadata": {},
   "outputs": [],
   "source": [
    "what is inheritance? give an example for each type of inheritance\n",
    "\n",
    "answer:\n",
    "    When a class derives from another class.\n",
    "    The child class will inherit all the public and protected properties and methods from the parent class."
   ]
  }
 ],
 "metadata": {
  "kernelspec": {
   "display_name": "Python 3 (ipykernel)",
   "language": "python",
   "name": "python3"
  },
  "language_info": {
   "codemirror_mode": {
    "name": "ipython",
    "version": 3
   },
   "file_extension": ".py",
   "mimetype": "text/x-python",
   "name": "python",
   "nbconvert_exporter": "python",
   "pygments_lexer": "ipython3",
   "version": "3.10.8"
  }
 },
 "nbformat": 4,
 "nbformat_minor": 5
}
